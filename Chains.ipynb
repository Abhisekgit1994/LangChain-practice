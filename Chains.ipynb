{
 "cells": [
  {
   "cell_type": "code",
   "execution_count": 1,
   "id": "61636ce9-30e8-4c90-b438-7aa6d04800fb",
   "metadata": {
    "tags": []
   },
   "outputs": [],
   "source": [
    "import warnings\n",
    "warnings.filterwarnings('ignore')"
   ]
  },
  {
   "cell_type": "code",
   "execution_count": 2,
   "id": "eaf42d1a-0a77-4dca-a171-598e3304d873",
   "metadata": {
    "tags": []
   },
   "outputs": [],
   "source": [
    "import os"
   ]
  },
  {
   "cell_type": "code",
   "execution_count": 3,
   "id": "ff0f0fbd-0ece-4f50-967b-f526899cfd1e",
   "metadata": {
    "tags": []
   },
   "outputs": [],
   "source": [
    "from dotenv import load_dotenv, find_dotenv\n",
    "_ = load_dotenv(find_dotenv())"
   ]
  },
  {
   "cell_type": "code",
   "execution_count": 4,
   "id": "ca2aca16-0cfb-48f7-84ed-73b0549c7e9a",
   "metadata": {
    "tags": []
   },
   "outputs": [],
   "source": [
    "import pandas as pd"
   ]
  },
  {
   "cell_type": "markdown",
   "id": "9ed8dcf2-092e-4be0-b6da-7b86cb5cb68e",
   "metadata": {
    "tags": []
   },
   "source": [
    "## LLMChain"
   ]
  },
  {
   "cell_type": "code",
   "execution_count": 5,
   "id": "cb114d16-610f-42c0-90df-9758a9cd4b1d",
   "metadata": {
    "tags": []
   },
   "outputs": [],
   "source": [
    "from langchain.prompts import PromptTemplate\n",
    "from langchain.llms import OpenAI\n",
    "\n",
    "llm = OpenAI(temperature=0.9)"
   ]
  },
  {
   "cell_type": "code",
   "execution_count": 6,
   "id": "ec57200d-d063-4fc2-9db6-cadb74c354e9",
   "metadata": {
    "tags": []
   },
   "outputs": [],
   "source": [
    "prompt = PromptTemplate(\n",
    "input_variables=['product'],\n",
    "    template=\"What is a good name for a company that makes {product}\"\n",
    ")"
   ]
  },
  {
   "cell_type": "markdown",
   "id": "7779706d-e2e3-44e2-9251-a2a0efb22da9",
   "metadata": {},
   "source": [
    "#### We can now create a very simple chain that will take user input, format the prompt with it, and then send it to the LLM."
   ]
  },
  {
   "cell_type": "code",
   "execution_count": 7,
   "id": "24e08209-68d3-415f-ab71-b6f45e8055d9",
   "metadata": {
    "tags": []
   },
   "outputs": [],
   "source": [
    "from langchain.chains import LLMChain\n",
    "chain = LLMChain(llm=llm, prompt = prompt)"
   ]
  },
  {
   "cell_type": "code",
   "execution_count": 8,
   "id": "c16005f2-4186-45ed-8ecd-9a6289ab45ac",
   "metadata": {
    "tags": []
   },
   "outputs": [
    {
     "name": "stdout",
     "output_type": "stream",
     "text": [
      "\n",
      "\n",
      "Touches of Color Socks.\n"
     ]
    }
   ],
   "source": [
    "# Run the chain only specifying the input variables\n",
    "print(chain.run(\"colorful socks\"))"
   ]
  },
  {
   "cell_type": "code",
   "execution_count": 18,
   "id": "11de231c-348a-4dea-8e34-e369b8f9dbd1",
   "metadata": {
    "tags": []
   },
   "outputs": [
    {
     "name": "stdout",
     "output_type": "stream",
     "text": [
      "\n",
      "\n",
      "HappyTots Toys.\n"
     ]
    }
   ],
   "source": [
    "print(chain.run(\"toys\"))"
   ]
  },
  {
   "cell_type": "markdown",
   "id": "dc73f541-bfd6-4cb1-88a0-afe33818225a",
   "metadata": {},
   "source": [
    "#### If there are multiple variables, you can input them all at once using a dictionary."
   ]
  },
  {
   "cell_type": "code",
   "execution_count": 19,
   "id": "13b4dd16-33b9-4592-bcb8-8809bb5d9083",
   "metadata": {
    "tags": []
   },
   "outputs": [],
   "source": [
    "prompt = PromptTemplate(\n",
    "input_variables = [\"company\", \"product\"],\n",
    "    template = \"What is a good name for {company} that makes {product}\",\n",
    ")\n",
    "\n",
    "chain = LLMChain(llm=llm, prompt=prompt)"
   ]
  },
  {
   "cell_type": "code",
   "execution_count": 20,
   "id": "316c66fb-9218-4460-8f5e-075b9226ade0",
   "metadata": {
    "tags": []
   },
   "outputs": [
    {
     "name": "stdout",
     "output_type": "stream",
     "text": [
      "\n",
      "\n",
      "SmartFoneTech\n"
     ]
    }
   ],
   "source": [
    "print(chain.run({\n",
    "    'company':'smarttech',\n",
    "    'product':'smartphones'\n",
    "}\n",
    "))"
   ]
  },
  {
   "cell_type": "code",
   "execution_count": null,
   "id": "454e92cc-cdf4-458b-83df-5d941a108e4a",
   "metadata": {},
   "outputs": [],
   "source": []
  },
  {
   "cell_type": "markdown",
   "id": "02cd2448-bf9d-4965-ba30-d6330c27317e",
   "metadata": {},
   "source": [
    "#### use a chat model in an LLMChain as well:"
   ]
  },
  {
   "cell_type": "code",
   "execution_count": 21,
   "id": "769ca756-162f-4664-bed5-c5c890733465",
   "metadata": {
    "tags": []
   },
   "outputs": [],
   "source": [
    "from langchain.chat_models import ChatOpenAI\n",
    "from langchain.prompts.chat import (\n",
    "ChatPromptTemplate,HumanMessagePromptTemplate\n",
    ")\n"
   ]
  },
  {
   "cell_type": "code",
   "execution_count": 22,
   "id": "8f95543d-4fb5-490c-a8f9-9fa7915aa252",
   "metadata": {
    "tags": []
   },
   "outputs": [],
   "source": [
    "human_msg_prompt = HumanMessagePromptTemplate(\n",
    "prompt = PromptTemplate(\n",
    "template=\"What is a good name for a company that makes {product}\",\n",
    "    input_variables=['product']\n",
    "    )\n",
    ")"
   ]
  },
  {
   "cell_type": "code",
   "execution_count": 23,
   "id": "65749330-318e-423f-b960-9bfa7378c07e",
   "metadata": {
    "tags": []
   },
   "outputs": [],
   "source": [
    "chat_prompt_template = ChatPromptTemplate.from_messages([human_msg_prompt])"
   ]
  },
  {
   "cell_type": "code",
   "execution_count": 24,
   "id": "d9bac82a-60e7-4fa8-b049-7d336374e7d2",
   "metadata": {
    "tags": []
   },
   "outputs": [],
   "source": [
    "chat = ChatOpenAI(temperature=0.9)"
   ]
  },
  {
   "cell_type": "code",
   "execution_count": 25,
   "id": "a7c17a33-97b6-48cb-8d03-5fd4545aeef3",
   "metadata": {
    "tags": []
   },
   "outputs": [],
   "source": [
    "chain = LLMChain(llm=llm, prompt=chat_prompt_template)"
   ]
  },
  {
   "cell_type": "code",
   "execution_count": 26,
   "id": "aea107d6-a44f-4fa0-9d9a-3135d3f4ab6d",
   "metadata": {
    "tags": []
   },
   "outputs": [
    {
     "name": "stdout",
     "output_type": "stream",
     "text": [
      "?\n",
      "\n",
      "Smoothie Supreme.\n"
     ]
    }
   ],
   "source": [
    "print(chain.run(\"powerful blenders\"))"
   ]
  },
  {
   "cell_type": "markdown",
   "id": "b123af5e-c814-4e49-800b-e252cf2937c6",
   "metadata": {},
   "source": [
    "## Different ways of calling chains"
   ]
  },
  {
   "cell_type": "code",
   "execution_count": 31,
   "id": "5ade9174-c6a8-4cc2-91e1-da62894622d9",
   "metadata": {
    "tags": []
   },
   "outputs": [],
   "source": [
    "chat = ChatOpenAI(temperature=0.9)\n",
    "prompt_temp = \"tell me a {adjective} joke\""
   ]
  },
  {
   "cell_type": "code",
   "execution_count": 32,
   "id": "17155846-90f6-4eb1-84c7-5eec9abd9027",
   "metadata": {
    "tags": []
   },
   "outputs": [],
   "source": [
    "chain = LLMChain(\n",
    "llm=chat,\n",
    "    prompt=PromptTemplate.from_template(prompt_temp)\n",
    ")"
   ]
  },
  {
   "cell_type": "code",
   "execution_count": 33,
   "id": "87c417d5-e608-44f8-bce6-f058eae7bd30",
   "metadata": {
    "tags": []
   },
   "outputs": [
    {
     "data": {
      "text/plain": [
       "{'adjective': 'beautiful',\n",
       " 'text': \"Why don't scientists trust atoms? \\n\\nBecause they make up everything.\"}"
      ]
     },
     "execution_count": 33,
     "metadata": {},
     "output_type": "execute_result"
    }
   ],
   "source": [
    "chain(inputs={'adjective':'beautiful'})"
   ]
  },
  {
   "cell_type": "code",
   "execution_count": 35,
   "id": "6676032a-de73-4ef5-8ff8-2be7707964f7",
   "metadata": {},
   "outputs": [
    {
     "data": {
      "text/plain": [
       "{'text': 'Why couldn’t the bicycle stand up by itself? Because it was two-tired.'}"
      ]
     },
     "execution_count": 35,
     "metadata": {},
     "output_type": "execute_result"
    }
   ],
   "source": [
    "chain('awesome', return_only_outputs=True)"
   ]
  },
  {
   "cell_type": "code",
   "execution_count": 36,
   "id": "6c85b2c3-41c4-4c85-9703-dc2ae110fb32",
   "metadata": {
    "tags": []
   },
   "outputs": [
    {
     "data": {
      "text/plain": [
       "['text']"
      ]
     },
     "execution_count": 36,
     "metadata": {},
     "output_type": "execute_result"
    }
   ],
   "source": [
    "chain.output_keys"
   ]
  },
  {
   "cell_type": "markdown",
   "id": "3eac2d89-96c5-4bcf-8ceb-f2622ae1a4c7",
   "metadata": {},
   "source": [
    "## Add memory to chains"
   ]
  },
  {
   "cell_type": "code",
   "execution_count": 37,
   "id": "540f6567-5c2a-426a-acef-4aa5c8695fcc",
   "metadata": {
    "tags": []
   },
   "outputs": [],
   "source": [
    "from langchain.chains import ConversationChain\n",
    "from langchain.memory import ConversationBufferMemory"
   ]
  },
  {
   "cell_type": "code",
   "execution_count": 38,
   "id": "dc2f179b-b7c1-4504-ad8d-bf4c5eb4c159",
   "metadata": {
    "tags": []
   },
   "outputs": [],
   "source": [
    "conversation = ConversationChain(\n",
    "llm=chat,\n",
    "    memory=ConversationBufferMemory()\n",
    ")"
   ]
  },
  {
   "cell_type": "code",
   "execution_count": 39,
   "id": "dc7013dd-a599-4bd5-8e73-375f31afd139",
   "metadata": {
    "tags": []
   },
   "outputs": [
    {
     "data": {
      "text/plain": [
       "'The first 3 colors of a rainbow are red, orange, and yellow.'"
      ]
     },
     "execution_count": 39,
     "metadata": {},
     "output_type": "execute_result"
    }
   ],
   "source": [
    "conversation.run(\"Answer briefly: What are the first 3 colors of a rainbow?\")"
   ]
  },
  {
   "cell_type": "code",
   "execution_count": 40,
   "id": "29071f1e-3387-461d-83fa-be62aa67ddd1",
   "metadata": {
    "tags": []
   },
   "outputs": [
    {
     "data": {
      "text/plain": [
       "'The next 4 colors of a rainbow are green, blue, indigo, and violet.'"
      ]
     },
     "execution_count": 40,
     "metadata": {},
     "output_type": "execute_result"
    }
   ],
   "source": [
    "conversation.run(\"And the next 4?\")"
   ]
  },
  {
   "cell_type": "code",
   "execution_count": null,
   "id": "e4116665-8809-4947-88cc-13a5fc3d6350",
   "metadata": {},
   "outputs": [],
   "source": []
  }
 ],
 "metadata": {
  "kernelspec": {
   "display_name": "Python 3 (ipykernel)",
   "language": "python",
   "name": "python3"
  },
  "language_info": {
   "codemirror_mode": {
    "name": "ipython",
    "version": 3
   },
   "file_extension": ".py",
   "mimetype": "text/x-python",
   "name": "python",
   "nbconvert_exporter": "python",
   "pygments_lexer": "ipython3",
   "version": "3.9.16"
  }
 },
 "nbformat": 4,
 "nbformat_minor": 5
}
